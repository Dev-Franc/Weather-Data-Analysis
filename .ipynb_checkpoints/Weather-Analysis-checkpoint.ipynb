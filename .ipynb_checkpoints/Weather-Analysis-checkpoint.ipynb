{
 "cells": [
  {
   "cell_type": "markdown",
   "id": "bf87eaa5",
   "metadata": {},
   "source": [
    "# A Weather Dataset"
   ]
  },
  {
   "cell_type": "markdown",
   "id": "4a663520",
   "metadata": {},
   "source": []
  },
  {
   "cell_type": "markdown",
   "id": "9448eb10",
   "metadata": {},
   "source": [
    "# Objectives"
   ]
  },
  {
   "cell_type": "markdown",
   "id": "08e83f84",
   "metadata": {},
   "source": [
    "- Find all the unique 'Wind Speed' Values in the data\n",
    "- Find the number of times when the weather is exactly clear\n",
    "- Find the number of times when the 'wind speed is exactly 4km/h'\n",
    "- find out all the Null Values in the data.\n",
    "- Rename the column name 'Weather' of the dataframe to 'Weather Condition'\n",
    "- What is the Mean 'Visibility'\n",
    "- What is the 'Standard Deviation of 'Pressure' in the data\n",
    "- what is the variance of 'Relative Humidity' in this data\n",
    "- Find all instances when Snow was recorded\n",
    "- find all instances when speed is above 24 and Visibility is 25\n",
    "- What is the mean value of each column against each 'Weather Condition'\n",
    "- What is the Minimum Value of each column against each 'Weather Condition'\n",
    "- ahow all recordes where Weather condition is Fog\n",
    "- Find all instances when 'Weather is clear' or visibility is above 40\n",
    "- Find all instances when \n",
    "    - 'Weather is clear' and 'Relative Humidity is greater than 50' \n",
    "    or \n",
    "    - visibility is above 40\n"
   ]
  },
  {
   "cell_type": "code",
   "execution_count": null,
   "id": "dac662fb",
   "metadata": {},
   "outputs": [],
   "source": []
  },
  {
   "cell_type": "code",
   "execution_count": null,
   "id": "1189cd06",
   "metadata": {},
   "outputs": [],
   "source": []
  },
  {
   "cell_type": "code",
   "execution_count": null,
   "id": "3254b41a",
   "metadata": {},
   "outputs": [],
   "source": []
  }
 ],
 "metadata": {
  "kernelspec": {
   "display_name": "Python 3 (ipykernel)",
   "language": "python",
   "name": "python3"
  },
  "language_info": {
   "codemirror_mode": {
    "name": "ipython",
    "version": 3
   },
   "file_extension": ".py",
   "mimetype": "text/x-python",
   "name": "python",
   "nbconvert_exporter": "python",
   "pygments_lexer": "ipython3",
   "version": "3.10.9"
  }
 },
 "nbformat": 4,
 "nbformat_minor": 5
}
